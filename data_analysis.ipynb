{
 "cells": [
  {
   "cell_type": "code",
   "execution_count": 1,
   "metadata": {
    "ExecuteTime": {
     "end_time": "2021-10-18T09:43:39.193357Z",
     "start_time": "2021-10-18T09:43:38.156374Z"
    }
   },
   "outputs": [],
   "source": [
    "#Imports\n",
    "import pandas as pd\n",
    "import numpy as np\n",
    "import csv\n",
    "import matplotlib.pyplot as plt\n",
    "import warnings\n",
    "import scipy.stats as scs\n",
    "import statistics\n",
    "import math\n",
    "import seaborn as sns\n",
    "%matplotlib inline\n",
    "import random\n",
    "from collections import Counter"
   ]
  },
  {
   "cell_type": "code",
   "execution_count": 2,
   "metadata": {
    "ExecuteTime": {
     "end_time": "2021-10-18T09:43:41.708566Z",
     "start_time": "2021-10-18T09:43:40.517612Z"
    }
   },
   "outputs": [],
   "source": [
    "#\n",
    "df=pd.read_csv(r\"C:\\Users\\vivak\\Documents\\vos\\coding_snps_freqs.txt\", sep='\\t', header=0)\n",
    "df['nonAFR']=df.EAS+df.EUR+df.SAS\n",
    "for i in ['AFR','EAS','EUR','SAS','nonAFR']:\n",
    "    df[i] = np.where(df[i]>0.5, 1-df[i], df[i])\n",
    "    \n",
    "df['csq'] = np.where(df['csq'].str.contains('synonymous'), 's', 'ns')"
   ]
  },
  {
   "cell_type": "code",
   "execution_count": 5,
   "metadata": {
    "ExecuteTime": {
     "end_time": "2021-05-02T16:12:33.709306Z",
     "start_time": "2021-05-02T16:12:33.689315Z"
    },
    "code_folding": [
     0
    ]
   },
   "outputs": [],
   "source": [
    "#Get shared polymorphism counts\n",
    "def getShared(df, p1, p2):\n",
    "    shared = []\n",
    "    for i in np.linspace(0,0.4,5):\n",
    "        s=df[(df[p1]>i) & (df[p1]<=i+0.1) & (df[p2]>0)].csq.value_counts()\n",
    "        if('s' not in s.index):\n",
    "            s['s']=0\n",
    "        if('ns' not in s.index):\n",
    "            s['ns']=0\n",
    "        shared.append(np.array([s.ns,s.s]))\n",
    "    #Repeat for 0.1-0.5 maf      \n",
    "    s=df[(df[p1]>0.1) & (df[p1]<=0.5) & (df[p2]>0)].csq.value_counts()\n",
    "    if('s' not in p.index):\n",
    "        s['s']=0\n",
    "    if('ns' not in p.index):\n",
    "        s['ns']=0\n",
    "    shared.append(np.array([s.ns,s.s]))    \n",
    "    return(shared)"
   ]
  },
  {
   "cell_type": "code",
   "execution_count": 6,
   "metadata": {
    "ExecuteTime": {
     "end_time": "2021-05-02T16:12:33.899398Z",
     "start_time": "2021-05-02T16:12:33.890389Z"
    },
    "code_folding": [
     0
    ]
   },
   "outputs": [],
   "source": [
    "#Get private polymorphism counts\n",
    "def getPrivate(df, p1, p2):\n",
    "    private = []\n",
    "    for i in np.linspace(0,0.4,5):\n",
    "        p=df[(df[p1]>i) & (df[p1]<=i+0.1) & (df[p2]==0)].csq.value_counts()\n",
    "        if('s' not in p.index):\n",
    "            p['s']=0\n",
    "        if('ns' not in p.index):\n",
    "            p['ns']=0\n",
    "        private.append(np.array([p.ns,p.s]))\n",
    "        \n",
    "    p=df[(df[p1]>0.1) & (df[p2]==0)].csq.value_counts()\n",
    "    if('s' not in p.index):\n",
    "        p['s']=0\n",
    "    if('ns' not in p.index):\n",
    "        p['ns']=0\n",
    "    private.append(np.array([p.ns,p.s]))\n",
    "    return(private)"
   ]
  },
  {
   "cell_type": "code",
   "execution_count": 8,
   "metadata": {
    "ExecuteTime": {
     "end_time": "2021-05-02T16:12:34.214197Z",
     "start_time": "2021-05-02T16:12:34.200322Z"
    },
    "code_folding": [
     1
    ]
   },
   "outputs": [],
   "source": [
    "#Bootstrap results to get CIs\n",
    "def bootstrapper(df):\n",
    "    lp = []\n",
    "    up = []\n",
    "    v=[]\n",
    "\n",
    "    for i,j in enumerate(df['rN']):\n",
    "        counts=[df['rN'][i],df['rS'][i],df['sN'][i],df['sS'][i]]\n",
    "        total_snps=sum(counts)\n",
    "        bZ_list=[]\n",
    "\n",
    "        for i in range(0, 1000):\n",
    "            btstrp = np.random.choice(['sN', 'sS', 'rN', 'rS'], total_snps, \n",
    "                             p=[counts[2]/total_snps, counts[3]/total_snps,\n",
    "                                counts[0]/total_snps, counts[1]/total_snps])\n",
    "\n",
    "            names, bCounts = np.unique(btstrp, return_counts=True)\n",
    "            if(len(bCounts)<4):\n",
    "                bZ_list.append(0)\n",
    "            else:\n",
    "                bZ_list.append((bCounts[2]/bCounts[3]) / (bCounts[0]/bCounts[1]))\n",
    "\n",
    "        bZ_sorted = sorted(bZ_list)\n",
    "        lp.append(bZ_sorted[249])\n",
    "        up.append(bZ_sorted[749])\n",
    "        v.append(np.var(bZ_sorted))\n",
    "    df['variance']=v\n",
    "    df['CI_low']=lp\n",
    "    df['CI_high']=up\n",
    "    \n",
    "    return(df)   "
   ]
  },
  {
   "cell_type": "code",
   "execution_count": 9,
   "metadata": {
    "ExecuteTime": {
     "end_time": "2021-05-02T16:12:34.373321Z",
     "start_time": "2021-05-02T16:12:34.362322Z"
    },
    "code_folding": [
     1
    ]
   },
   "outputs": [],
   "source": [
    "#Calculate Z\n",
    "def getZ(df, p1, p2, outFile=\"\"):\n",
    "    res= pd.DataFrame()\n",
    "    s=getShared_avg(df,p1,p2)\n",
    "    p=getPrivate(df,p1,p2)    \n",
    "    z=pd.merge(pd.DataFrame(s, columns=['sN','sS']),pd.DataFrame(p, columns=['rN','rS']), left_index=True, right_index=True)\n",
    "    z['Z']=np.where((z.sS>0) & (z.rN>0) & (z.rS>0), (z.sN/z.sS)/(z.rN/z.rS), 0)\n",
    "    z=bootstrapper(z)\n",
    "    z['population']=p1\n",
    "    z['maf']=['0-0.1','0.1-0.2','0.2-0.3','0.3-0.4','0.4-0.5','0.1-0.5']\n",
    "    res=pd.concat([res,z])\n",
    "    s=getShared_avg(df,p2,p1)\n",
    "    p=getPrivate(df,p2,p1)    \n",
    "    z=pd.merge(pd.DataFrame(s, columns=['sN','sS']),pd.DataFrame(p, columns=['rN','rS']), left_index=True, right_index=True)\n",
    "    z['Z']=np.where((z.sS>0) & (z.rN>0) & (z.rS>0), (z.sN/z.sS)/(z.rN/z.rS), 0)\n",
    "    z=bootstrapper(z)\n",
    "    z['population']=p2\n",
    "    z['maf']=['0-0.1','0.1-0.2','0.2-0.3','0.3-0.4','0.4-0.5','0.1-0.5']\n",
    "    res=pd.concat([res,z])\n",
    "    #Only if outfile parameter exits do we write out to file\n",
    "    if(outFile==\"\"):\n",
    "        return(res)\n",
    "    \n",
    "    else:\n",
    "        res.to_csv(outFile, header=True, index=True, sep='\\t')\n",
    "        return(res)"
   ]
  },
  {
   "cell_type": "code",
   "execution_count": 11,
   "metadata": {
    "ExecuteTime": {
     "end_time": "2021-05-02T16:12:34.708735Z",
     "start_time": "2021-05-02T16:12:34.702729Z"
    },
    "code_folding": [
     0
    ]
   },
   "outputs": [],
   "source": [
    "def plotZ_comparison(df, outFile=\"\"):\n",
    "    df.index=df.maf\n",
    "    df.index.name='MAF'\n",
    "    fig, ax = plt.subplots(figsize=(24,8))\n",
    "    error=[df[\"Z\"]-df['CI_low'], df['CI_high']-df[\"Z\"]]\n",
    "    plt.subplot(121)\n",
    "    ax = sns.pointplot(df.index, 'Z', hue='population',\n",
    "        data=df, dodge=True, join=False, ci=None, legend=False)\n",
    "    # Find the x,y coordinates for each point\n",
    "    x_coords = []\n",
    "    y_coords = []\n",
    "    for point_pair in ax.collections:\n",
    "        for x, y in point_pair.get_offsets():\n",
    "            x_coords.append(x)\n",
    "            y_coords.append(y)\n",
    "\n",
    "    # Calculate the type of error to plot as the error bars\n",
    "    # Make sure the order is the same as the points were looped over\n",
    "    ax.errorbar(x_coords, y_coords, yerr=error, fmt=' ', zorder=-1,\n",
    "               solid_capstyle='projecting', capsize=6, ecolor='k')\n",
    "    ax.xlabel=\"minor allele frequency\"\n",
    "    plt.axhline(y=1.0, color='g', linestyle='--')\n",
    "    plt.rcParams.update({'font.size': 12})\n",
    "    \n",
    "    if(outFile!=\"\"):\n",
    "        plt.savefig(outFile)    "
   ]
  },
  {
   "cell_type": "code",
   "execution_count": 12,
   "metadata": {
    "ExecuteTime": {
     "end_time": "2021-05-02T16:16:03.093500Z",
     "start_time": "2021-05-02T16:12:57.675028Z"
    }
   },
   "outputs": [],
   "source": [
    "p1=['AFR', 'AFR', 'AFR', 'EUR', 'EAS', 'EUR','AFR']\n",
    "p2=['EAS', 'EUR', 'SAS', 'EAS', 'SAS', 'SAS','nonAFR']\n",
    "for i,j in enumerate(p1):\n",
    "    res = getZ(df,j,p2[i])\n",
    "    res['alpha'] = np.where(res.Z>1, 1-(1/res.Z), 0)\n",
    "    res['alpha_low'] = np.where(res.CI_low>1, 1-(1/res.CI_low), 0)\n",
    "    res['alpha_high'] = np.where(res.CI_high>1, 1-(1/res.CI_high), 0)\n",
    "    \n",
    "    for x in ['', '_low', '_high']:\n",
    "        res['bps'+x] = np.where(res['alpha'+x]!=0, res['alpha'+x] * res.sN, 0)\n",
    "        \n",
    "    res.to_csv(r\"C:\\Users\\vivak\\Documents\\vos\\tables/\"+j+\"_\"+p2[i]+\"_strictMask.txt\", \n",
    "               sep='\\t', header=True, index=False)"
   ]
  }
 ],
 "metadata": {
  "hide_input": false,
  "kernelspec": {
   "display_name": "Python 3",
   "language": "python",
   "name": "python3"
  },
  "language_info": {
   "codemirror_mode": {
    "name": "ipython",
    "version": 3
   },
   "file_extension": ".py",
   "mimetype": "text/x-python",
   "name": "python",
   "nbconvert_exporter": "python",
   "pygments_lexer": "ipython3",
   "version": "3.7.3"
  },
  "varInspector": {
   "cols": {
    "lenName": 16,
    "lenType": 16,
    "lenVar": 40
   },
   "kernels_config": {
    "python": {
     "delete_cmd_postfix": "",
     "delete_cmd_prefix": "del ",
     "library": "var_list.py",
     "varRefreshCmd": "print(var_dic_list())"
    },
    "r": {
     "delete_cmd_postfix": ") ",
     "delete_cmd_prefix": "rm(",
     "library": "var_list.r",
     "varRefreshCmd": "cat(var_dic_list()) "
    }
   },
   "types_to_exclude": [
    "module",
    "function",
    "builtin_function_or_method",
    "instance",
    "_Feature"
   ],
   "window_display": false
  }
 },
 "nbformat": 4,
 "nbformat_minor": 2
}
